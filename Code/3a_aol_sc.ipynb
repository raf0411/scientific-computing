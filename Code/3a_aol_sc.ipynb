{
  "nbformat": 4,
  "nbformat_minor": 0,
  "metadata": {
    "colab": {
      "provenance": []
    },
    "kernelspec": {
      "name": "python3",
      "display_name": "Python 3"
    },
    "language_info": {
      "name": "python"
    }
  },
  "cells": [
    {
      "cell_type": "code",
      "execution_count": null,
      "metadata": {
        "colab": {
          "base_uri": "https://localhost:8080/"
        },
        "id": "lfdObRi0Zrv2",
        "outputId": "85a86ce5-5714-4642-eda1-e1c58fa889bd"
      },
      "outputs": [
        {
          "output_type": "stream",
          "name": "stdout",
          "text": [
            "Left Riemann:  219.287541423158\n",
            "Right Riemann:  279.47137010526325\n",
            "Mid Riemann:  247.81520427789488\n",
            "Trapezoid:  249.37945576421063\n",
            "Simpson:  248.33662144\n"
          ]
        }
      ],
      "source": [
        "import numpy as np\n",
        "\n",
        "def f(x):\n",
        "    return x**3 - 0.3*x**2 - 8.56*x + 8.448\n",
        "\n",
        "phi = 3.14\n",
        "\n",
        "b = 2 * phi\n",
        "a = 0\n",
        "\n",
        "n = 20\n",
        "\n",
        "width = (b - a) / (n - 1)\n",
        "\n",
        "x = np.linspace(a, b, n)\n",
        "\n",
        "y = f(x)\n",
        "\n",
        "# Left Riemann\n",
        "left = width * sum(y[:n-1])\n",
        "print(\"Left Riemann: \", left)\n",
        "\n",
        "# Right Riemann\n",
        "right = width * sum(y[1:])\n",
        "print(\"Right Riemann: \", right)\n",
        "\n",
        "# Mid Riemann\n",
        "left_x = x[:n - 1]\n",
        "right_x = x[1:]\n",
        "\n",
        "xMid = (left_x + right_x) / 2\n",
        "yMid = f(xMid)\n",
        "\n",
        "mid = width * sum(yMid)\n",
        "print(\"Mid Riemann: \", mid)\n",
        "\n",
        "# Trapezoid\n",
        "trapezoid = 1/2 * width * sum(y[:n - 1] + y[1:])\n",
        "print(\"Trapezoid: \", trapezoid)\n",
        "\n",
        "# Simpson\n",
        "dx = (b-a)/n\n",
        "x = np.linspace(a,b,n+1)\n",
        "y = f(x)\n",
        "simpson = dx/3 * np.sum(y[0:-1:2] + 4*y[1::2] + y[2::2])\n",
        "print(\"Simpson: \", simpson)\n"
      ]
    }
  ]
}